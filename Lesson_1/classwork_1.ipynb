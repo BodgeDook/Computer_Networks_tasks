{
 "cells": [
  {
   "cell_type": "markdown",
   "id": "e0a72593-df5b-479e-8ffd-ae71dd66cedd",
   "metadata": {},
   "source": [
    "Downloading the libraries:"
   ]
  },
  {
   "cell_type": "code",
   "execution_count": 45,
   "id": "ce67e383-d6ac-42a0-9928-591f822eafc2",
   "metadata": {},
   "outputs": [],
   "source": [
    "from pythonping import ping\n",
    "import pandas as pd"
   ]
  },
  {
   "cell_type": "markdown",
   "id": "7f051ebe-7d4d-4ed8-a0a3-ae4e4b9b6fd4",
   "metadata": {},
   "source": [
    "Ping function and sites:"
   ]
  },
  {
   "cell_type": "code",
   "execution_count": 46,
   "id": "b65f1bd4-e2e0-49b7-9ef3-beb3133771f3",
   "metadata": {},
   "outputs": [],
   "source": [
    "addresses = {\n",
    "        'google.com' : '8.8.8.8',\n",
    "        'yandex.ru' : '77.88.44.55',\n",
    "        'ozon.ru' : '185.73.194.82',\n",
    "        'walmart.com' : '23.59.85.184',\n",
    "        'youtube.com' : '74.125.131.190',\n",
    "        'discord.com' : '162.159.136.232',\n",
    "        'wildberries.com' : '185.62.202.2',\n",
    "        'vk.com' : '87.240.132.67',\n",
    "        'nsu.ru' : '84.237.50.25',\n",
    "        'wikipedia.org' : '185.15.59.224'\n",
    "}\n",
    "\n",
    "def ping_stats(addr):\n",
    "    connection = ping(addr)\n",
    "    min_ms, max_ms, avg_ms = connection.rtt_min_ms, connection.rtt_max_ms, connection.rtt_avg_ms\n",
    "    \n",
    "    return min_ms, max_ms, avg_ms"
   ]
  },
  {
   "cell_type": "markdown",
   "id": "1586655b-1e5d-4e00-99a3-4bf798dd579e",
   "metadata": {},
   "source": [
    "Main cycle:"
   ]
  },
  {
   "cell_type": "code",
   "execution_count": 47,
   "id": "a7278adc-fc87-4a5f-80e9-b22a01410c78",
   "metadata": {},
   "outputs": [
    {
     "name": "stdout",
     "output_type": "stream",
     "text": [
      "google.com : min = 45.6 ms, max = 46.55 ms, avg = 46.09 ms\n",
      "yandex.ru : min = 60.19 ms, max = 103.99 ms, avg = 91.55 ms\n",
      "ozon.ru : min = 51.81 ms, max = 52.3 ms, avg = 52.17 ms\n",
      "walmart.com : min = 64.5 ms, max = 106.06 ms, avg = 93.94 ms\n",
      "youtube.com : min = 49.81 ms, max = 51.85 ms, avg = 50.52 ms\n",
      "discord.com : min = 45.87 ms, max = 48.77 ms, avg = 46.84 ms\n",
      "wildberries.com : min = 54.65 ms, max = 101.92 ms, avg = 67.24 ms\n",
      "vk.com : min = 47.46 ms, max = 51.49 ms, avg = 48.85 ms\n",
      "nsu.ru : min = 5.84 ms, max = 13.87 ms, avg = 9.11 ms\n",
      "wikipedia.org : min = 88.49 ms, max = 117.75 ms, avg = 105.22 ms\n"
     ]
    }
   ],
   "source": [
    "list_of_stats = []\n",
    "for addr in addresses:\n",
    "    mn, mx, avg = ping_stats(addresses.get(addr))\n",
    "    print(f'{addr} : min = {mn} ms, max = {mx} ms, avg = {avg} ms')\n",
    "    list_of_stats.append([addr, mn, mx, avg])"
   ]
  },
  {
   "cell_type": "markdown",
   "id": "98a70c2f-ae1b-4e20-ad92-73f33ba8c238",
   "metadata": {},
   "source": [
    "Making csv-table with the common results:"
   ]
  },
  {
   "cell_type": "code",
   "execution_count": 48,
   "id": "4d4ab4a2-88cc-4d6e-abad-c15e69456da6",
   "metadata": {},
   "outputs": [],
   "source": [
    "csv_df = pd.DataFrame(list_of_stats, columns = ['Site', 'Min RTT (ms)', 'Max RTT (ms)', 'Avg RTT (ms)'])\n",
    "csv_df.to_csv('example_of_ping_results.csv', index = False, sep = ',')"
   ]
  }
 ],
 "metadata": {
  "kernelspec": {
   "display_name": "NSU_comp_networks: jp-Kernerl",
   "language": "python",
   "name": "nsu_comp_networks_jp-kernel"
  },
  "language_info": {
   "codemirror_mode": {
    "name": "ipython",
    "version": 3
   },
   "file_extension": ".py",
   "mimetype": "text/x-python",
   "name": "python",
   "nbconvert_exporter": "python",
   "pygments_lexer": "ipython3",
   "version": "3.12.7"
  }
 },
 "nbformat": 4,
 "nbformat_minor": 5
}
