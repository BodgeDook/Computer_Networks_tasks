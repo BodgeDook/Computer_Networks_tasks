{
 "cells": [
  {
   "cell_type": "markdown",
   "id": "5b1792a6-9e61-491c-b04f-59eaf9ee1759",
   "metadata": {},
   "source": [
    "## **CNN parser:** ##"
   ]
  },
  {
   "cell_type": "code",
   "execution_count": 41,
   "id": "a5a0e126-f879-4ff9-88d0-5b26aab2a2ed",
   "metadata": {},
   "outputs": [],
   "source": [
    "from selenium import webdriver\n",
    "from selenium.webdriver.common.by import By\n",
    "from selenium.webdriver.support.ui import WebDriverWait\n",
    "from selenium.webdriver.support import expected_conditions as EC\n",
    "import pandas as pd\n",
    "import time"
   ]
  },
  {
   "cell_type": "code",
   "execution_count": 68,
   "id": "7877f2e4-eb3a-45ed-9e0a-71c6bad2806e",
   "metadata": {},
   "outputs": [],
   "source": [
    "EMAIL = \"username@email.com\"\n",
    "PASSWORD = \"my_password\""
   ]
  },
  {
   "cell_type": "code",
   "execution_count": 77,
   "id": "2c38e324-c190-433a-bc14-749730fb8412",
   "metadata": {},
   "outputs": [
    {
     "name": "stdout",
     "output_type": "stream",
     "text": [
      "Banner was passed...\n",
      "\n",
      "China’s foreign investment sank in January. Can Beijing turn things around? -> Published 2:21 AM EST, Thu February 20, 2025 -> By John Liu, -> CNN\n",
      "\n",
      "Washington Post opted not to publish anti-Musk ad campaign after initially being open -> Published 2:02 PM EST, Mon February 17, 2025 -> By Liam Reilly, -> CNN\n",
      "\n",
      "HSBC to save $1.8 billion over two years under new CEO -> Published 1:28 AM EST, Wed February 19, 2025 -> By -> Reuters\n",
      "\n",
      "The Trump administration is reversing Biden policies everywhere. But it’s keeping this one -> Published 5:00 AM EST, Thu February 20, 2025 -> By Nathaniel Meyersohn, -> CNN\n",
      "\n",
      "Elon Musk debuts Grok 3, an AI model that he says outperforms ChatGPT and DeepSeek -> Updated 1:39 PM EST, Tue February 18, 2025 -> By Clare Duffy, -> CNN\n",
      "\n",
      "Elon Musk will withdraw his nearly $100 billion bid for OpenAI if it remains a nonprofit -> Updated 7:05 AM EST, Thu February 13, 2025 -> By David Goldman, -> CNN\n",
      "\n",
      "In from the cold? Alibaba co-founder Jack Ma spotted among top tech bosses who met China’s Xi -> Updated 9:40 PM EST, Mon February 17, 2025 -> By John Liu, -> CNN\n",
      "\n",
      "OpenAI’s wild week. How the Sam Altman story unfolded -> Updated 3:32 PM EST, Wed November 22, 2023 -> By Clare Duffy and Diksha Madhok, -> CNN\n",
      "\n",
      "Elon Musk-owned X settles lawsuit with Donald Trump over January 6 suspension -> Published 9:47 PM EST, Wed February 12, 2025 -> By Ramishah Maruf, -> CNN\n",
      "\n",
      "Denny’s is closing dozens more restaurants -> Published 8:28 AM EST, Thu February 13, 2025 -> By Jordan Valinsky, -> CNN\n",
      "\n",
      "done\n"
     ]
    }
   ],
   "source": [
    "driver = webdriver.Firefox()\n",
    "driver.get(\"https://edition.cnn.com/account/log-in\")\n",
    "wait = WebDriverWait(driver, 10)\n",
    "\n",
    "# cookie banner closing:\n",
    "try:\n",
    "    cookie_button = wait.until(EC.element_to_be_clickable((By.XPATH, \"//button[contains(text(),'Accept All')]\")))\n",
    "    cookie_button.click()\n",
    "    print('Banner was passed...\\n')\n",
    "    time.sleep(2)\n",
    "except Exception:\n",
    "    print('Cookie banner didn\\'t appear...\\n')\n",
    "\n",
    "# logging:\n",
    "email_input = wait.until(EC.element_to_be_clickable((By.NAME, \"loginEmail\")))\n",
    "email_input.send_keys(EMAIL)\n",
    "\n",
    "password_input = wait.until(EC.element_to_be_clickable((By.NAME, \"loginPassword\")))\n",
    "password_input.send_keys(PASSWORD)\n",
    "\n",
    "# 'Sign In' button clicking:\n",
    "login_button = wait.until(EC.element_to_be_clickable((By.XPATH, \"//button[contains(text(),'Sign in')]\")))\n",
    "login_button.click()\n",
    "time.sleep(5)\n",
    "\n",
    "# moving to the current url:\n",
    "driver.get(\"https://edition.cnn.com/business\")\n",
    "time.sleep(2)\n",
    "\n",
    "news_hrefs = list(set([a.get_attribute('href') for a in driver.find_elements(By.CSS_SELECTOR, \"a[data-link-type='article']\")]))\n",
    "news_hrefs = news_hrefs[:10]\n",
    "\n",
    "news_headliners = []\n",
    "publishing_dates = []\n",
    "news_authors = []\n",
    "sources = []\n",
    "for news_href in news_hrefs:\n",
    "    driver.get(news_href)\n",
    "    time.sleep(2)\n",
    "    \n",
    "    news_headliner = driver.find_element(By.CSS_SELECTOR, \"h1[data-editable='headlineText']\").text\n",
    "    publish_date = driver.find_element(By.CSS_SELECTOR, \"div[data-uri*='_components/timestamp/']\").text\n",
    "    news_author = driver.find_element(By.CSS_SELECTOR, \"div[class^='byline__name']\").text\n",
    "\n",
    "    author_parts = news_author.rsplit(\" \", 1)\n",
    "    news_author = author_parts[0]\n",
    "    source = author_parts[1] if len(author_parts) > 1 else 'CNN' # to get the current sources from 'news_author'\n",
    "    \n",
    "    publishing_dates.append(publish_date)\n",
    "    news_headliners.append(news_headliner)\n",
    "    news_authors.append(news_author)\n",
    "    sources.append(source)\n",
    "    \n",
    "    print(f'{news_headliner} -> {publish_date} -> {news_author} -> {source}\\n')\n",
    "    \n",
    "print('done')\n",
    "driver.quit()"
   ]
  },
  {
   "cell_type": "code",
   "execution_count": 83,
   "id": "ead67315-37bf-4050-befa-211168171b7c",
   "metadata": {},
   "outputs": [
    {
     "name": "stdout",
     "output_type": "stream",
     "text": [
      "['By John Liu,', 'By Liam Reilly,', 'By', 'By Nathaniel Meyersohn,', 'By Clare Duffy,', 'By David Goldman,', 'By John Liu,', 'By Clare Duffy and Diksha Madhok,', 'By Ramishah Maruf,', 'By Jordan Valinsky,']\n",
      "\n",
      "['John Liu', 'Liam Reilly', \"Author wasn't found\", 'Nathaniel Meyersohn', 'Clare Duffy', 'David Goldman', 'John Liu', 'Clare Duffy and Diksha Madhok', 'Ramishah Maruf', 'Jordan Valinsky']\n"
     ]
    }
   ],
   "source": [
    "print(news_authors)\n",
    "\n",
    "clean_authors = [] # need to process the sources...\n",
    "for author in news_authors:\n",
    "    author = author.replace(\"By \", \"\").strip(\",\").strip()\n",
    "    if author.lower() == \"by\" or not author:\n",
    "        author = \"Author wasn\\'t found\"\n",
    "    clean_authors.append(author)\n",
    "\n",
    "print()\n",
    "print(clean_authors)"
   ]
  },
  {
   "cell_type": "code",
   "execution_count": 84,
   "id": "e00fd11d-a18a-4ffb-b2ee-be41459244b8",
   "metadata": {},
   "outputs": [
    {
     "name": "stdout",
     "output_type": "stream",
     "text": [
      "all data was saved!\n",
      "\n"
     ]
    }
   ],
   "source": [
    "df = pd.DataFrame({\n",
    "    \"Headline\": news_headliners,\n",
    "    \"Date\": publishing_dates,\n",
    "    \"Author\": clean_authors,\n",
    "    \"Source\": sources\n",
    "})\n",
    "\n",
    "df.to_csv(\"cnn_news.csv\", index = False, encoding = \"utf-8-sig\")\n",
    "print('all data was saved!\\n')"
   ]
  },
  {
   "cell_type": "code",
   "execution_count": 85,
   "id": "9b966ba7-fe88-4397-b83a-5c7bdf845c97",
   "metadata": {},
   "outputs": [],
   "source": [
    "# ..."
   ]
  }
 ],
 "metadata": {
  "kernelspec": {
   "display_name": "NSU_comp_networks: jp-Kernerl",
   "language": "python",
   "name": "nsu_comp_networks_jp-kernel"
  },
  "language_info": {
   "codemirror_mode": {
    "name": "ipython",
    "version": 3
   },
   "file_extension": ".py",
   "mimetype": "text/x-python",
   "name": "python",
   "nbconvert_exporter": "python",
   "pygments_lexer": "ipython3",
   "version": "3.12.7"
  }
 },
 "nbformat": 4,
 "nbformat_minor": 5
}
